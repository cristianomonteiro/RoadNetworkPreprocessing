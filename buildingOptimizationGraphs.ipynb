{
    "cells": [
        {
            "cell_type": "markdown",
            "metadata": {},
            "source": [
                "# Loading the libraries"
            ]
        },
        {
            "cell_type": "code",
            "execution_count": null,
            "metadata": {},
            "outputs": [],
            "source": [
                "import os\n",
                "jdbcPathUbuntu = '/usr/share/java/postgresql-42.2.23.jar'\n",
                "jdbcPathMacOS = '/Users/cristianomartinsm/postgresql-42.2.23.jar'\n",
                "jdbcPath = jdbcPathUbuntu\n",
                "os.environ['PYSPARK_SUBMIT_ARGS'] = '--driver-class-path ' + jdbcPath + ' --jars ' + jdbcPath + ' pyspark-shell'\n",
                "import databricks.koalas as ks\n",
                "import numpy as np\n",
                "import pandas as pd\n",
                "import networkx as nx\n",
                "from heapq import heapify, heapreplace#, heappop, heappush"
            ]
        },
        {
            "cell_type": "markdown",
            "metadata": {},
            "source": [
                "# Splitting the lengthy edges"
            ]
        },
        {
            "cell_type": "code",
            "execution_count": null,
            "metadata": {},
            "outputs": [],
            "source": [
                "params = {'user': 'cristiano', 'password': 'cristiano'}\n",
                "\n",
                "def loadMultiGraph():\n",
                "\tkdf = ks.read_sql_query('''\tselect\tEDGE.IDVERTEXORIG_FK,\n",
                "\t\t\t\t\t\t\t\t\t\tEDGE.IDVERTEXDEST_FK,\n",
                "\t\t\t\t\t\t\t\t\t\tEDGE.IDEDGE,\n",
                "\t\t\t\t\t\t\t\t\t\tEDGE.LENGTH,\n",
                "\t\t\t\t\t\t\t\t\t\tEDGE.ONEWAY\n",
                "\t\t\t\t\t\t\t\tfrom\tSTREETSEGMENT as EDGE\n",
                "\t\t\t\t\t\t\t\twhere\tEDGE.UTILITYVALUE <> 0 ''',\n",
                "\t\t\t\t\t'jdbc:postgresql:afterqualifying', options=params)\n",
                "\n",
                "\tG = nx.MultiGraph()\n",
                "\tfor row in kdf.itertuples():\n",
                "\t\tdictRow = row._asdict()\n",
                "\n",
                "\t\tG.add_edge(dictRow['idvertexdest_fk'], dictRow['idvertexorig_fk'], key=dictRow['idedge'], idedge=dictRow['idedge'], length=dictRow['length'])\n",
                "\n",
                "\t#G = nx.from_pandas_edgelist(kdf.to_pandas(), 'idvertexorig_fk', 'idvertexdest_fk', ['idedge', 'length'], create_using=nx.MultiGraph(), edge_key='idedge')\n",
                "\t\n",
                "\treturn G\n",
                "\n",
                "G = loadMultiGraph()\n",
                "print(G.number_of_nodes())"
            ]
        },
        {
            "cell_type": "code",
            "execution_count": null,
            "metadata": {},
            "outputs": [],
            "source": [
                "def reBuildGraph(G, edgesHeap, firstSplit):\n",
                "    for item in edgesHeap:\n",
                "        (heapValue, u, v, idedge, lengthOriginal, numSplit) = item\n",
                "        #The number of segments the edge must be split into is 1 less the value stored in the heap\n",
                "        numSplit = numSplit - 1\n",
                "        if numSplit >= firstSplit:\n",
                "            lengthSplitted = lengthOriginal/numSplit\n",
                "            vertexStart = u\n",
                "\n",
                "            #print(G[u][v][idedge]['length'], nx.dijkstra_path_length(G, u, v, weight='length'), numSplit, lengthSplitted, lengthOriginal)\n",
                "            oldDistance = nx.dijkstra_path_length(G, u, v, weight='length')\n",
                "\n",
                "            G.remove_edge(u, v, key=int(idedge))\n",
                "            for i in range(numSplit - 1):\n",
                "                vertexEnd = str(idedge) + '_' + str(i + 1)\n",
                "                G.add_edge(vertexStart, vertexEnd, key=vertexEnd, idedge=vertexEnd, length=lengthSplitted)\n",
                "                vertexStart = vertexEnd\n",
                "            keyLast = str(idedge) + '_' + str(numSplit)\n",
                "            G.add_edge(vertexStart, v, key=keyLast, idedge=keyLast, length=lengthSplitted)\n",
                "\n",
                "            #print(nx.dijkstra_path_length(G, u, v, weight='length'))\n",
                "            newDistance = nx.dijkstra_path_length(G, u, v, weight='length')\n",
                "            if round(oldDistance, 7) != round(newDistance, 7):\n",
                "                print(\"ERROR IN DISTANCES:\", oldDistance, newDistance)\n",
                "\n",
                "    return G"
            ]
        },
        {
            "cell_type": "code",
            "execution_count": null,
            "metadata": {},
            "outputs": [],
            "source": [
                "def splitEdges(precision=1, maxDistance=None):\n",
                "    G = loadMultiGraph()\n",
                "\n",
                "    firstSplit = 2\n",
                "    #The value must be negative because the data structure is a min heap\n",
                "    edgesHeap = [(-1*data['length'], u, v, data['idedge'], data['length'], firstSplit) for u, v, data in G.edges(data=True)]\n",
                "    heapify(edgesHeap)\n",
                "    \n",
                "    newLength = G.number_of_edges()\n",
                "    if precision != 0:\n",
                "        for i in range(len(edgesHeap) * precision):\n",
                "            #The value must be multiplied by -1 because the data structure is a min heap\n",
                "            if maxDistance != None and -1 * edgesHeap[0][0] <= maxDistance:\n",
                "                break\n",
                "            \n",
                "            #(heapValue, u, v, idedge, lengthOriginal, numSplit) = heappop(edgesHeap)\n",
                "            (heapValue, u, v, idedge, lengthOriginal, numSplit) = edgesHeap[0]\n",
                "\n",
                "            #The value must be negative because the data structure is a min heap\n",
                "            heapValue = -1 * lengthOriginal/numSplit\n",
                "\n",
                "            #The numSplit is prepared for the next time the edge may be splitted (numsplit + 1)\n",
                "            heapreplace(edgesHeap, (heapValue, u, v, idedge, lengthOriginal, numSplit + 1))\n",
                "\n",
                "            newLength += 1\n",
                "\n",
                "        #reBuildGraph(G, edgesHeap, firstSplit)\n",
                "\n",
                "    lengths = sorted([-1 * item[0] for item in edgesHeap])\n",
                "\n",
                "    return lengths, newLength\n",
                "\n",
                "data, newLength = splitEdges(0)\n",
                "data = np.asarray(data)\n",
                "print(0, newLength)\n",
                "data = data.reshape((data.shape[0], 1))\n",
                "maxPrecision = 11\n",
                "for i in range(1, maxPrecision):\n",
                "    newData, newLength = splitEdges(i)\n",
                "    newData = np.asarray(newData)\n",
                "    print(i, newLength)\n",
                "    newData = newData.reshape((newData.shape[0], 1))\n",
                "    data = np.concatenate((data, newData), axis=1)\n",
                "\n",
                "kdf = ks.DataFrame(data=data, columns=range(maxPrecision))\n",
                "kdf.describe()"
            ]
        },
        {
            "cell_type": "code",
            "execution_count": null,
            "metadata": {},
            "outputs": [],
            "source": [
                "data, newLength = splitEdges(maxDistance=200)\n",
                "print(-1, newLength)\n",
                "kdfDistance = pd.DataFrame(data)\n",
                "kdfDistance.describe()"
            ]
        },
        {
            "cell_type": "code",
            "execution_count": null,
            "metadata": {},
            "outputs": [],
            "source": [
                "def formatFloat(value):\n",
                "    numDecimaPlaces = 4\n",
                "    return \" & \" + \"{:.{nDigits}f}\".format(value, nDigits=numDecimaPlaces)\n",
                "\n",
                "#stringKdf = kdf.describe().to_string(float_format=formatFloat).replace(\"\\n\", \" \\\\\\\\\\n\")\n",
                "#print(stringKdf)\n",
                "\n",
                "stringKdf = kdfDistance.describe().to_string(float_format=formatFloat).replace(\"\\n\", \" \\\\\\\\\\n\")\n",
                "print(stringKdf)"
            ]
        }
    ],
    "metadata": {
        "interpreter": {
            "hash": "b04396ebd4f74f170fc7886f30f673a7231b611b6a244b83ebde391c4c23e86b"
        },
        "kernelspec": {
            "display_name": "Python 3.7.4 64-bit ('base': conda)",
            "name": "python3"
        },
        "language_info": {
            "codemirror_mode": {
                "name": "ipython",
                "version": 3
            },
            "file_extension": ".py",
            "mimetype": "text/x-python",
            "name": "python",
            "nbconvert_exporter": "python",
            "pygments_lexer": "ipython3",
            "version": "3.9.7"
        },
        "orig_nbformat": 4
    },
    "nbformat": 4,
    "nbformat_minor": 2
}
