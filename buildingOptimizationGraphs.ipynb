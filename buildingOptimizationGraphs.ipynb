{
    "cells": [
        {
            "cell_type": "markdown",
            "source": [
                "# Loading the libraries"
            ],
            "metadata": {}
        },
        {
            "cell_type": "code",
            "execution_count": null,
            "source": [
                "import os\n",
                "os.environ['PYSPARK_SUBMIT_ARGS'] = '--driver-class-path /usr/share/java/postgresql-42.2.23.jar --jars /usr/share/java/postgresql-42.2.23.jar pyspark-shell'\n",
                "import databricks.koalas as ks\n",
                "import numpy as np\n",
                "import pandas as pd\n",
                "import networkx as nx\n",
                "from heapq import heapify, heappop, heappush"
            ],
            "outputs": [],
            "metadata": {}
        },
        {
            "cell_type": "markdown",
            "source": [
                "# Splitting the lengthy edges"
            ],
            "metadata": {}
        },
        {
            "cell_type": "code",
            "execution_count": null,
            "source": [
                "params = {'user': 'cristiano', 'password': 'cristiano'}\n",
                "\n",
                "def loadMultiGraph():\n",
                "\tkdf = ks.read_sql_query('''\tselect\tEDGE.IDVERTEXORIG_FK,\n",
                "\t\t\t\t\t\t\t\t\t\tEDGE.IDVERTEXDEST_FK,\n",
                "\t\t\t\t\t\t\t\t\t\tEDGE.IDEDGE,\n",
                "\t\t\t\t\t\t\t\t\t\tEDGE.LENGTH,\n",
                "\t\t\t\t\t\t\t\t\t\tEDGE.ONEWAY\n",
                "\t\t\t\t\t\t\t\tfrom\tSTREETSEGMENT as EDGE ''',\n",
                "\t\t\t\t\t'jdbc:postgresql:afterqualifying', options=params)\n",
                "\n",
                "\tG = nx.MultiGraph()\n",
                "\tfor row in kdf.itertuples():\n",
                "\t\tdictRow = row._asdict()\n",
                "\n",
                "\t\tG.add_edge(dictRow['idvertexdest_fk'], dictRow['idvertexorig_fk'], key=dictRow['idedge'], idedge=dictRow['idedge'], length=dictRow['length'])\n",
                "\n",
                "\t#G = nx.from_pandas_edgelist(kdf.to_pandas(), 'idvertexorig_fk', 'idvertexdest_fk', ['idedge', 'length'], create_using=nx.MultiGraph(), edge_key='idedge')\n",
                "\t\n",
                "\treturn G\n",
                "\n",
                "#G = loadMultiGraph()"
            ],
            "outputs": [],
            "metadata": {}
        },
        {
            "cell_type": "code",
            "execution_count": null,
            "source": [
                "def reBuildGraph(G, edgesHeap, firstSplit):\n",
                "    for item in edgesHeap:\n",
                "        #The number of segments the edge must be split into is 1 less the heap value\n",
                "        numSplit = item[-1] - 1\n",
                "        if numSplit >= firstSplit:\n",
                "            (heapValue, u, v, idedge, lengthOriginal, numSplit) = item\n",
                "\n",
                "            lengthSplitted = lengthOriginal/numSplit\n",
                "            vertexStart = u\n",
                "\n",
                "            #print(G[u][v][idedge]['length'], nx.dijkstra_path_length(G, u, v, weight='length'), numSplit, lengthSplitted, lengthOriginal)\n",
                "            oldDistance = nx.dijkstra_path_length(G, u, v, weight='length')\n",
                "\n",
                "            G.remove_edge(u, v, key=int(idedge))\n",
                "            for i in range(numSplit - 1):\n",
                "                vertexEnd = str(idedge) + '_' + str(i + 1)\n",
                "                G.add_edge(vertexStart, vertexEnd, key=vertexEnd, idedge=vertexEnd, length=lengthSplitted)\n",
                "                vertexStart = vertexEnd\n",
                "            keyLast = str(idedge) + '_' + str(numSplit)\n",
                "            G.add_edge(vertexStart, v, key=keyLast, idedge=keyLast, length=lengthSplitted)\n",
                "\n",
                "            #print(nx.dijkstra_path_length(G, u, v, weight='length'))\n",
                "            newDistance = nx.dijkstra_path_length(G, u, v, weight='length')\n",
                "            if round(oldDistance, 7) != round(newDistance, 7):\n",
                "                print(\"ERROR IN DISTANCES:\", oldDistance, newDistance)\n",
                "\n",
                "    return G"
            ],
            "outputs": [],
            "metadata": {}
        },
        {
            "cell_type": "code",
            "execution_count": null,
            "source": [
                "def splitEdges(precision=1):\n",
                "    G = loadMultiGraph()\n",
                "\n",
                "    firstSplit = 2\n",
                "    #The value must be negative because the data structure is a min heap\n",
                "    edgesHeap = [(-1*data['length']/firstSplit, u, v, data['idedge'], data['length'], firstSplit) for u, v, data in G.edges(data=True)]\n",
                "    heapify(edgesHeap)\n",
                "\n",
                "    if precision == 0:\n",
                "        lengths = sorted([item[4]/(item[5] - 1) for item in edgesHeap])\n",
                "    else:\n",
                "        for i in range(len(edgesHeap) * precision):\n",
                "            (heapValue, u, v, idedge, lengthOriginal, numSplit) = heappop(edgesHeap)\n",
                "\n",
                "            #The value must be negative because the data structure is a min heap\n",
                "            #heapValue = -1 * (lengthOriginal/numSplit - lengthOriginal/(numSplit + 1))\n",
                "            heapValue = -1 * lengthOriginal/(numSplit + 1)\n",
                "\n",
                "            #The numSplit is prepared for the next time the edge may be splitted (numsplit + 1)\n",
                "            heappush(edgesHeap, (heapValue, u, v, idedge, lengthOriginal, numSplit + 1))\n",
                "        \n",
                "        lengths = sorted([item[4]/(item[5] - 1) for item in edgesHeap])\n",
                "\n",
                "        #reBuildGraph(G, edgesHeap, firstSplit)\n",
                "\n",
                "    return lengths\n",
                "\n",
                "data = np.asarray(splitEdges(0))\n",
                "data = data.reshape((data.shape[0], 1))\n",
                "maxPrecision = 11\n",
                "for i in range(1, maxPrecision):\n",
                "    newData = np.asarray(splitEdges(i))\n",
                "    newData = newData.reshape((newData.shape[0], 1))\n",
                "    data = np.concatenate((data, newData), axis=1)\n",
                "\n",
                "kdf = ks.DataFrame(data=data, columns=range(maxPrecision))\n",
                "kdf.describe()"
            ],
            "outputs": [],
            "metadata": {}
        }
    ],
    "metadata": {
        "orig_nbformat": 4,
        "language_info": {
            "name": "python",
            "version": "3.7.4",
            "mimetype": "text/x-python",
            "codemirror_mode": {
                "name": "ipython",
                "version": 3
            },
            "pygments_lexer": "ipython3",
            "nbconvert_exporter": "python",
            "file_extension": ".py"
        },
        "kernelspec": {
            "name": "python3",
            "display_name": "Python 3.7.4 64-bit (conda)"
        },
        "interpreter": {
            "hash": "7c7a6e66c654c73229534504ddb684873924211df03b68af76895b292b23a17e"
        }
    },
    "nbformat": 4,
    "nbformat_minor": 2
}