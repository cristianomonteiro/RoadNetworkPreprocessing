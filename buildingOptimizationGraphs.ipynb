{
    "cells": [
        {
            "cell_type": "markdown",
            "source": [
                "# Loading the libraries"
            ],
            "metadata": {}
        },
        {
            "cell_type": "code",
            "execution_count": 11,
            "source": [
                "import os\n",
                "jdbcPathUbuntu = '/usr/share/java/postgresql-42.2.23.jar'\n",
                "jdbcPathMacOS = '/Users/cristianomartinsm/postgresql-42.2.23.jar'\n",
                "jdbcPath = jdbcPathMacOS\n",
                "os.environ['PYSPARK_SUBMIT_ARGS'] = '--driver-class-path ' + jdbcPath + ' --jars ' + jdbcPath + ' pyspark-shell'\n",
                "import databricks.koalas as ks\n",
                "import numpy as np\n",
                "import pandas as pd\n",
                "import networkx as nx\n",
                "from heapq import heapify, heapreplace#, heappop, heappush"
            ],
            "outputs": [],
            "metadata": {}
        },
        {
            "cell_type": "markdown",
            "source": [
                "# Splitting the lengthy edges"
            ],
            "metadata": {}
        },
        {
            "cell_type": "code",
            "execution_count": 12,
            "source": [
                "params = {'user': 'cristiano', 'password': 'cristiano'}\n",
                "\n",
                "def loadMultiGraph():\n",
                "\tkdf = ks.read_sql_query('''\tselect\tEDGE.IDVERTEXORIG_FK,\n",
                "\t\t\t\t\t\t\t\t\t\tEDGE.IDVERTEXDEST_FK,\n",
                "\t\t\t\t\t\t\t\t\t\tEDGE.IDEDGE,\n",
                "\t\t\t\t\t\t\t\t\t\tEDGE.LENGTH,\n",
                "\t\t\t\t\t\t\t\t\t\tEDGE.ONEWAY\n",
                "\t\t\t\t\t\t\t\tfrom\tSTREETSEGMENT as EDGE\n",
                "\t\t\t\t\t\t\t\twhere\tEDGE.UTILITYVALUE <> 0 ''',\n",
                "\t\t\t\t\t'jdbc:postgresql:afterqualifying', options=params)\n",
                "\n",
                "\tG = nx.MultiGraph()\n",
                "\tfor row in kdf.itertuples():\n",
                "\t\tdictRow = row._asdict()\n",
                "\n",
                "\t\tG.add_edge(dictRow['idvertexdest_fk'], dictRow['idvertexorig_fk'], key=dictRow['idedge'], idedge=dictRow['idedge'], length=dictRow['length'])\n",
                "\n",
                "\t#G = nx.from_pandas_edgelist(kdf.to_pandas(), 'idvertexorig_fk', 'idvertexdest_fk', ['idedge', 'length'], create_using=nx.MultiGraph(), edge_key='idedge')\n",
                "\t\n",
                "\treturn G\n",
                "\n",
                "G = loadMultiGraph()\n",
                "print(G.number_of_nodes())"
            ],
            "outputs": [
                {
                    "output_type": "stream",
                    "name": "stdout",
                    "text": [
                        "240874\n"
                    ]
                }
            ],
            "metadata": {}
        },
        {
            "cell_type": "code",
            "execution_count": 13,
            "source": [
                "def reBuildGraph(G, edgesHeap, firstSplit):\n",
                "    for item in edgesHeap:\n",
                "        (heapValue, u, v, idedge, lengthOriginal, numSplit) = item\n",
                "        #The number of segments the edge must be split into is 1 less the value stored in the heap\n",
                "        numSplit = numSplit - 1\n",
                "        if numSplit >= firstSplit:\n",
                "            lengthSplitted = lengthOriginal/numSplit\n",
                "            vertexStart = u\n",
                "\n",
                "            #print(G[u][v][idedge]['length'], nx.dijkstra_path_length(G, u, v, weight='length'), numSplit, lengthSplitted, lengthOriginal)\n",
                "            oldDistance = nx.dijkstra_path_length(G, u, v, weight='length')\n",
                "\n",
                "            G.remove_edge(u, v, key=int(idedge))\n",
                "            for i in range(numSplit - 1):\n",
                "                vertexEnd = str(idedge) + '_' + str(i + 1)\n",
                "                G.add_edge(vertexStart, vertexEnd, key=vertexEnd, idedge=vertexEnd, length=lengthSplitted)\n",
                "                vertexStart = vertexEnd\n",
                "            keyLast = str(idedge) + '_' + str(numSplit)\n",
                "            G.add_edge(vertexStart, v, key=keyLast, idedge=keyLast, length=lengthSplitted)\n",
                "\n",
                "            #print(nx.dijkstra_path_length(G, u, v, weight='length'))\n",
                "            newDistance = nx.dijkstra_path_length(G, u, v, weight='length')\n",
                "            if round(oldDistance, 7) != round(newDistance, 7):\n",
                "                print(\"ERROR IN DISTANCES:\", oldDistance, newDistance)\n",
                "\n",
                "    return G"
            ],
            "outputs": [],
            "metadata": {}
        },
        {
            "cell_type": "code",
            "execution_count": 14,
            "source": [
                "def splitEdges(precision=1, maxDistance=None):\n",
                "    G = loadMultiGraph()\n",
                "\n",
                "    firstSplit = 2\n",
                "    #The value must be negative because the data structure is a min heap\n",
                "    edgesHeap = [(-1*data['length'], u, v, data['idedge'], data['length'], firstSplit) for u, v, data in G.edges(data=True)]\n",
                "    heapify(edgesHeap)\n",
                "    \n",
                "    newLength = G.number_of_edges()\n",
                "    if precision != 0:\n",
                "        for i in range(len(edgesHeap) * precision):\n",
                "            #The value must be multiplied by -1 because the data structure is a min heap\n",
                "            if maxDistance != None and -1 * edgesHeap[0][0] <= maxDistance:\n",
                "                break\n",
                "            \n",
                "            #(heapValue, u, v, idedge, lengthOriginal, numSplit) = heappop(edgesHeap)\n",
                "            (heapValue, u, v, idedge, lengthOriginal, numSplit) = edgesHeap[0]\n",
                "\n",
                "            #The value must be negative because the data structure is a min heap\n",
                "            heapValue = -1 * lengthOriginal/numSplit\n",
                "\n",
                "            #The numSplit is prepared for the next time the edge may be splitted (numsplit + 1)\n",
                "            heapreplace(edgesHeap, (heapValue, u, v, idedge, lengthOriginal, numSplit + 1))\n",
                "\n",
                "            newLength += 1\n",
                "\n",
                "        reBuildGraph(G, edgesHeap, firstSplit)\n",
                "\n",
                "    lengths = sorted([-1 * item[0] for item in edgesHeap])\n",
                "\n",
                "    return lengths, newLength\n",
                "\n",
                "data, newLength = splitEdges(0)\n",
                "data = np.asarray(data)\n",
                "print(0, newLength)\n",
                "data = data.reshape((data.shape[0], 1))\n",
                "maxPrecision = 11\n",
                "for i in range(1, maxPrecision):\n",
                "    newData, newLength = splitEdges(i)\n",
                "    newData = np.asarray(newData)\n",
                "    print(i, newLength)\n",
                "    newData = newData.reshape((newData.shape[0], 1))\n",
                "    data = np.concatenate((data, newData), axis=1)\n",
                "\n",
                "kdf = ks.DataFrame(data=data, columns=range(maxPrecision))\n",
                "kdf.describe()"
            ],
            "outputs": [
                {
                    "output_type": "stream",
                    "name": "stdout",
                    "text": [
                        "0 285186\n",
                        "1 570372\n",
                        "2 855558\n",
                        "3 1140744\n"
                    ]
                },
                {
                    "output_type": "error",
                    "ename": "KeyboardInterrupt",
                    "evalue": "",
                    "traceback": [
                        "\u001b[0;31m---------------------------------------------------------------------------\u001b[0m",
                        "\u001b[0;31mKeyboardInterrupt\u001b[0m                         Traceback (most recent call last)",
                        "\u001b[0;32m<ipython-input-14-64bffb8396be>\u001b[0m in \u001b[0;36m<module>\u001b[0;34m\u001b[0m\n\u001b[1;32m     37\u001b[0m \u001b[0mmaxPrecision\u001b[0m \u001b[0;34m=\u001b[0m \u001b[0;36m11\u001b[0m\u001b[0;34m\u001b[0m\u001b[0;34m\u001b[0m\u001b[0m\n\u001b[1;32m     38\u001b[0m \u001b[0;32mfor\u001b[0m \u001b[0mi\u001b[0m \u001b[0;32min\u001b[0m \u001b[0mrange\u001b[0m\u001b[0;34m(\u001b[0m\u001b[0;36m1\u001b[0m\u001b[0;34m,\u001b[0m \u001b[0mmaxPrecision\u001b[0m\u001b[0;34m)\u001b[0m\u001b[0;34m:\u001b[0m\u001b[0;34m\u001b[0m\u001b[0;34m\u001b[0m\u001b[0m\n\u001b[0;32m---> 39\u001b[0;31m     \u001b[0mnewData\u001b[0m\u001b[0;34m,\u001b[0m \u001b[0mnewLength\u001b[0m \u001b[0;34m=\u001b[0m \u001b[0msplitEdges\u001b[0m\u001b[0;34m(\u001b[0m\u001b[0mi\u001b[0m\u001b[0;34m)\u001b[0m\u001b[0;34m\u001b[0m\u001b[0;34m\u001b[0m\u001b[0m\n\u001b[0m\u001b[1;32m     40\u001b[0m     \u001b[0mnewData\u001b[0m \u001b[0;34m=\u001b[0m \u001b[0mnp\u001b[0m\u001b[0;34m.\u001b[0m\u001b[0masarray\u001b[0m\u001b[0;34m(\u001b[0m\u001b[0mnewData\u001b[0m\u001b[0;34m)\u001b[0m\u001b[0;34m\u001b[0m\u001b[0;34m\u001b[0m\u001b[0m\n\u001b[1;32m     41\u001b[0m     \u001b[0mprint\u001b[0m\u001b[0;34m(\u001b[0m\u001b[0mi\u001b[0m\u001b[0;34m,\u001b[0m \u001b[0mnewLength\u001b[0m\u001b[0;34m)\u001b[0m\u001b[0;34m\u001b[0m\u001b[0;34m\u001b[0m\u001b[0m\n",
                        "\u001b[0;32m<ipython-input-14-64bffb8396be>\u001b[0m in \u001b[0;36msplitEdges\u001b[0;34m(precision, maxDistance)\u001b[0m\n\u001b[1;32m     21\u001b[0m \u001b[0;34m\u001b[0m\u001b[0m\n\u001b[1;32m     22\u001b[0m             \u001b[0;31m#The numSplit is prepared for the next time the edge may be splitted (numsplit + 1)\u001b[0m\u001b[0;34m\u001b[0m\u001b[0;34m\u001b[0m\u001b[0;34m\u001b[0m\u001b[0m\n\u001b[0;32m---> 23\u001b[0;31m             \u001b[0mheapreplace\u001b[0m\u001b[0;34m(\u001b[0m\u001b[0medgesHeap\u001b[0m\u001b[0;34m,\u001b[0m \u001b[0;34m(\u001b[0m\u001b[0mheapValue\u001b[0m\u001b[0;34m,\u001b[0m \u001b[0mu\u001b[0m\u001b[0;34m,\u001b[0m \u001b[0mv\u001b[0m\u001b[0;34m,\u001b[0m \u001b[0midedge\u001b[0m\u001b[0;34m,\u001b[0m \u001b[0mlengthOriginal\u001b[0m\u001b[0;34m,\u001b[0m \u001b[0mnumSplit\u001b[0m \u001b[0;34m+\u001b[0m \u001b[0;36m1\u001b[0m\u001b[0;34m)\u001b[0m\u001b[0;34m)\u001b[0m\u001b[0;34m\u001b[0m\u001b[0;34m\u001b[0m\u001b[0m\n\u001b[0m\u001b[1;32m     24\u001b[0m \u001b[0;34m\u001b[0m\u001b[0m\n\u001b[1;32m     25\u001b[0m             \u001b[0mnewLength\u001b[0m \u001b[0;34m+=\u001b[0m \u001b[0;36m1\u001b[0m\u001b[0;34m\u001b[0m\u001b[0;34m\u001b[0m\u001b[0m\n",
                        "\u001b[0;31mKeyboardInterrupt\u001b[0m: "
                    ]
                }
            ],
            "metadata": {}
        },
        {
            "cell_type": "code",
            "execution_count": null,
            "source": [
                "data, newLength = splitEdges(maxDistance=500)\n",
                "print(-1, newLength)\n",
                "kdfDistance = ks.DataFrame(data)\n",
                "kdfDistance.describe()"
            ],
            "outputs": [
                {
                    "output_type": "stream",
                    "name": "stdout",
                    "text": [
                        "-1 285607\n"
                    ]
                },
                {
                    "output_type": "execute_result",
                    "data": {
                        "text/html": [
                            "<div>\n",
                            "<style scoped>\n",
                            "    .dataframe tbody tr th:only-of-type {\n",
                            "        vertical-align: middle;\n",
                            "    }\n",
                            "\n",
                            "    .dataframe tbody tr th {\n",
                            "        vertical-align: top;\n",
                            "    }\n",
                            "\n",
                            "    .dataframe thead th {\n",
                            "        text-align: right;\n",
                            "    }\n",
                            "</style>\n",
                            "<table border=\"1\" class=\"dataframe\">\n",
                            "  <thead>\n",
                            "    <tr style=\"text-align: right;\">\n",
                            "      <th></th>\n",
                            "      <th>0</th>\n",
                            "    </tr>\n",
                            "  </thead>\n",
                            "  <tbody>\n",
                            "    <tr>\n",
                            "      <td>count</td>\n",
                            "      <td>285186.000000</td>\n",
                            "    </tr>\n",
                            "    <tr>\n",
                            "      <td>mean</td>\n",
                            "      <td>70.661664</td>\n",
                            "    </tr>\n",
                            "    <tr>\n",
                            "      <td>std</td>\n",
                            "      <td>58.069957</td>\n",
                            "    </tr>\n",
                            "    <tr>\n",
                            "      <td>min</td>\n",
                            "      <td>0.015059</td>\n",
                            "    </tr>\n",
                            "    <tr>\n",
                            "      <td>25%</td>\n",
                            "      <td>28.043877</td>\n",
                            "    </tr>\n",
                            "    <tr>\n",
                            "      <td>50%</td>\n",
                            "      <td>58.426013</td>\n",
                            "    </tr>\n",
                            "    <tr>\n",
                            "      <td>75%</td>\n",
                            "      <td>96.566379</td>\n",
                            "    </tr>\n",
                            "    <tr>\n",
                            "      <td>max</td>\n",
                            "      <td>499.613211</td>\n",
                            "    </tr>\n",
                            "  </tbody>\n",
                            "</table>\n",
                            "</div>"
                        ],
                        "text/plain": [
                            "                   0\n",
                            "count  285186.000000\n",
                            "mean       70.661664\n",
                            "std        58.069957\n",
                            "min         0.015059\n",
                            "25%        28.043877\n",
                            "50%        58.426013\n",
                            "75%        96.566379\n",
                            "max       499.613211"
                        ]
                    },
                    "metadata": {},
                    "execution_count": 8
                }
            ],
            "metadata": {}
        },
        {
            "cell_type": "code",
            "execution_count": null,
            "source": [
                "def formatFloat(value):\n",
                "    numDecimaPlaces = 4\n",
                "    return \" & \" + \"{:.{nDigits}f}\".format(value, nDigits=numDecimaPlaces)\n",
                "\n",
                "stringKdf = kdf.describe().to_string(float_format=formatFloat).replace(\"\\n\", \" \\\\\\\\\\n\")\n",
                "print(stringKdf)\n",
                "\n",
                "stringKdf = kdfDistance.describe().to_string(float_format=formatFloat).replace(\"\\n\", \" \\\\\\\\\\n\")\n",
                "print(stringKdf)"
            ],
            "outputs": [
                {
                    "output_type": "stream",
                    "name": "stdout",
                    "text": [
                        "                  0              1              2              3              4              5              6              7              8              9              10 \\\\\n",
                        "count  & 285186.0000  & 285186.0000  & 285186.0000  & 285186.0000  & 285186.0000  & 285186.0000  & 285186.0000  & 285186.0000  & 285186.0000  & 285186.0000  & 285186.0000 \\\\\n",
                        "mean       & 71.2245      & 31.9137      & 21.5082      & 16.3486      & 13.2219      & 11.1034       & 9.5736       & 8.4168       & 7.5125       & 6.7827       & 6.1860 \\\\\n",
                        "std        & 66.7911      & 11.8582       & 6.0142       & 3.7312       & 2.5902       & 1.9314       & 1.5046       & 1.2168       & 1.0104       & 0.8549       & 0.7313 \\\\\n",
                        "min         & 0.0151       & 0.0151       & 0.0151       & 0.0151       & 0.0151       & 0.0151       & 0.0151       & 0.0151       & 0.0151       & 0.0151       & 0.0151 \\\\\n",
                        "25%        & 28.0439      & 25.6708      & 19.1419      & 15.0836      & 12.4322      & 10.5852       & 9.2267       & 8.1713       & 7.3356       & 6.6440       & 6.0786 \\\\\n",
                        "50%        & 58.4260      & 34.3193      & 23.1970      & 17.5237      & 14.0706      & 11.7552      & 10.0833       & 8.8297       & 7.8563       & 7.0760       & 6.4361 \\\\\n",
                        "75%        & 96.5664      & 41.0499      & 25.9866      & 18.9973      & 14.9860      & 12.3789      & 10.5370       & 9.1833       & 8.1374       & 7.3008       & 6.6231 \\\\\n",
                        "max      & 6703.5732      & 49.0849      & 28.7008      & 20.3561      & 15.8207      & 12.9338      & 10.9536       & 9.4979       & 8.3776       & 7.4981       & 6.7846\n",
                        "                   0 \\\\\n",
                        "count  & 285186.0000 \\\\\n",
                        "mean       & 70.6617 \\\\\n",
                        "std        & 58.0700 \\\\\n",
                        "min         & 0.0151 \\\\\n",
                        "25%        & 28.0439 \\\\\n",
                        "50%        & 58.4260 \\\\\n",
                        "75%        & 96.5664 \\\\\n",
                        "max       & 499.6132\n"
                    ]
                }
            ],
            "metadata": {}
        }
    ],
    "metadata": {
        "orig_nbformat": 4,
        "language_info": {
            "name": "python",
            "version": "3.7.4",
            "mimetype": "text/x-python",
            "codemirror_mode": {
                "name": "ipython",
                "version": 3
            },
            "pygments_lexer": "ipython3",
            "nbconvert_exporter": "python",
            "file_extension": ".py"
        },
        "kernelspec": {
            "name": "python3",
            "display_name": "Python 3.7.4 64-bit ('base': conda)"
        },
        "interpreter": {
            "hash": "7c7a6e66c654c73229534504ddb684873924211df03b68af76895b292b23a17e"
        }
    },
    "nbformat": 4,
    "nbformat_minor": 2
}