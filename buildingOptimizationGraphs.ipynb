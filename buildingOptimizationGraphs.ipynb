{
    "cells": [
        {
            "cell_type": "markdown",
            "source": [
                "# Loading the libraries"
            ],
            "metadata": {}
        },
        {
            "cell_type": "code",
            "execution_count": null,
            "source": [
                "import os\n",
                "os.environ['PYSPARK_SUBMIT_ARGS'] = '--driver-class-path /usr/share/java/postgresql-42.2.23.jar --jars /usr/share/java/postgresql-42.2.23.jar pyspark-shell'\n",
                "import databricks.koalas as ks\n",
                "import pandas as pd\n",
                "import networkx as nx\n",
                "from heapq import heapify, heappop, heappush"
            ],
            "outputs": [],
            "metadata": {}
        },
        {
            "cell_type": "markdown",
            "source": [
                "# Splitting the lengthy edges"
            ],
            "metadata": {}
        },
        {
            "cell_type": "code",
            "execution_count": null,
            "source": [
                "def splitUntilDouble(G):\n",
                "    firstSplit = 2\n",
                "    edgesHeap = [(-1*data['length']/firstSplit, u, v, data['idedge'], firstSplit) for u, v, data in G.edges(data=True)]\n",
                "    heapify(edgesHeap)\n",
                "\n",
                "    for i in range(len(edgesHeap)):\n",
                "        (length, u, v, idedge, numSplit) = heappop(edgesHeap)\n",
                "        heappush(edgesHeap, (length * numSplit/(numSplit+1), u, v, idedge))\n",
                "    \n",
                "    for item in edgesHeap:\n",
                "        numSplit = item[-1]\n",
                "        if numSplit > firstSplit:\n",
                "            (length, u, v, idedge, numSplit) = item\n",
                "            "
            ],
            "outputs": [],
            "metadata": {}
        }
    ],
    "metadata": {
        "orig_nbformat": 4,
        "language_info": {
            "name": "python"
        }
    },
    "nbformat": 4,
    "nbformat_minor": 2
}