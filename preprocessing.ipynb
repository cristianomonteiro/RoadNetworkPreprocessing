{
 "cells": [
  {
   "cell_type": "code",
   "execution_count": 4,
   "source": [
    "import os\n",
    "os.environ['PYSPARK_SUBMIT_ARGS'] = '--driver-class-path /usr/share/java/postgresql-42.2.23.jar'# --jars /usr/share/java/postgresql-42.2.23.jar pyspark-shell'\n",
    "\n",
    "import databricks.koalas as ks"
   ],
   "outputs": [],
   "metadata": {}
  },
  {
   "cell_type": "markdown",
   "source": [
    "# Loading the data"
   ],
   "metadata": {}
  },
  {
   "cell_type": "code",
   "execution_count": null,
   "source": [
    "options = {'user': 'cristiano', 'password': 'cristiano'}\n",
    "\n",
    "ks.read_sql_query('''select W.OSM_ID,\n",
    "                            W.LENGTH_M,\n",
    "                            W.SOURCE_OSM,\n",
    "                            SOURCE_DEGREE.DEGREE--,\n",
    "                            --W.TARGET_OSM,\n",
    "                            --TARGET_DEGREE.DEGREE\n",
    "                    \n",
    "                    from\tWAYS as W,\n",
    "\t                        (select count(W1.OSM_ID) as DEGREE,\n",
    "                                    W1.OSM_ID as OSM_ID\n",
    "                            from    WAYS as W1,\n",
    "                                    WAYS as W2\n",
    "                            where   W2.SOURCE_OSM = W1.OSM_ID or\n",
    "                                    W2.TARGET_OSM = W1.OSM_ID\n",
    "                            group by W1.OSM_ID) as SOURCE_DEGREE                            \n",
    "                    \n",
    "                    where SOURCE_DEGREE.OSM_ID = W.OSM_ID\n",
    "\n",
    "                    order by SOURCE_DEGREE desc--, TARGET_DEGREE desc ''',\n",
    "                'jdbc:postgresql:afterqualifying', options=options)"
   ],
   "outputs": [],
   "metadata": {}
  }
 ],
 "metadata": {
  "interpreter": {
   "hash": "7c7a6e66c654c73229534504ddb684873924211df03b68af76895b292b23a17e"
  },
  "kernelspec": {
   "name": "python3",
   "display_name": "Python 3.7.4 64-bit (conda)"
  },
  "language_info": {
   "name": "python",
   "version": "3.7.4",
   "mimetype": "text/x-python",
   "codemirror_mode": {
    "name": "ipython",
    "version": 3
   },
   "pygments_lexer": "ipython3",
   "nbconvert_exporter": "python",
   "file_extension": ".py"
  },
  "orig_nbformat": 4
 },
 "nbformat": 4,
 "nbformat_minor": 2
}