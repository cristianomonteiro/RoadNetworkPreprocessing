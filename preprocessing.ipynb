{
 "cells": [
  {
   "cell_type": "markdown",
   "source": [
    "# Loading the libraries"
   ],
   "metadata": {}
  },
  {
   "cell_type": "code",
   "execution_count": 18,
   "source": [
    "import os\n",
    "os.environ['PYSPARK_SUBMIT_ARGS'] = '--driver-class-path /usr/share/java/postgresql-42.2.23.jar --jars /usr/share/java/postgresql-42.2.23.jar pyspark-shell'\n",
    "import databricks.koalas as ks\n",
    "import pandas as pd\n",
    "import networkx as nx\n",
    "import psycopg2 as pg\n",
    "import psycopg2.extras as pgExtras"
   ],
   "outputs": [],
   "metadata": {}
  },
  {
   "cell_type": "markdown",
   "source": [
    "# Loading the data"
   ],
   "metadata": {}
  },
  {
   "cell_type": "code",
   "execution_count": 19,
   "source": [
    "params = {'user': 'cristiano', 'password': 'cristiano'}\n",
    "\n",
    "def loadGraph():\n",
    "\tkdf = ks.read_sql_query('''\tselect\tEDGE.IDVERTEXORIG_FK,\n",
    "\t\t\t\t\t\t\t\t\t\tEDGE.IDVERTEXDEST_FK,\n",
    "\t\t\t\t\t\t\t\t\t\tEDGE.LENGTH,\n",
    "\t\t\t\t\t\t\t\t\t\tEDGE.IDEDGE,\n",
    "\t\t\t\t\t\t\t\t\t\tEDGE.UTILITYVALUE\n",
    "\t\t\t\t\t\t\t\tfrom\tSTREETSEGMENT as EDGE ''',\n",
    "\t\t\t\t\t'jdbc:postgresql:afterqualifying', options=params)\n",
    "\n",
    "\t#return kdf\n",
    "\treturn nx.from_pandas_edgelist(kdf.to_pandas(), 'idvertexorig_fk', 'idvertexdest_fk', ['length', 'idedge', 'utilityvalue']).to_undirected()\n",
    "\n",
    "#kdfGraph = loadGraph()\n",
    "#G = loadGraph()"
   ],
   "outputs": [],
   "metadata": {}
  },
  {
   "cell_type": "markdown",
   "source": [
    "# Deleting the smaller components"
   ],
   "metadata": {}
  },
  {
   "cell_type": "code",
   "execution_count": 20,
   "source": [
    "def deleteSmallerComponents(G):\n",
    "\tcomponents = sorted(nx.connected_components(G), key=len, reverse=True)\n",
    "\tcompToDelete = []\n",
    "\tfor comp in components[1:]:\n",
    "\t\tcompToDelete.extend(list(comp))\n",
    "\tcompToDelete = [(x,) for x in compToDelete]\n",
    "\tcompToDeleteDouble = [(x, y) for x, y in zip(compToDelete, compToDelete)]\n",
    "\n",
    "\tparams.update({'host':'localhost', 'port':'5432', 'database':'afterqualifying'})\n",
    "\tconn = None\n",
    "\ttry:\n",
    "\t\tconn = pg.connect(**params)\n",
    "\t\tcur = conn.cursor()\n",
    "\t\tcur.executemany('delete from STREETSEGMENT where IDVERTEXORIG_FK = %s or IDVERTEXDEST_FK = %s', compToDeleteDouble)\n",
    "\t\tcur.executemany('delete from STREETINTERSECTION where IDVERTEX = %s', compToDelete)\n",
    "\t\tconn.commit()\n",
    "\t\tcur.close()\n",
    "\texcept(Exception, pg.DatabaseError) as error:\n",
    "\t\tprint(error)\n",
    "\tfinally:\n",
    "\t\tif conn is not None:\n",
    "\t\t\tconn.close()\n",
    "\n",
    "#deleteSmallerComponents(G)"
   ],
   "outputs": [],
   "metadata": {}
  },
  {
   "cell_type": "markdown",
   "source": [
    "# Calculating and storing the shortest distances"
   ],
   "metadata": {}
  },
  {
   "cell_type": "code",
   "execution_count": 21,
   "source": [
    "def storeShortestDistances(G):\n",
    "\tcutOffThreshold = 1000.000001\n",
    "\tdistances = nx.all_pairs_dijkstra_path_length(G, cutoff=cutOffThreshold, weight='length')\n",
    "\tG = None\n",
    "\tdistances = dict(distances)\n",
    "\t\n",
    "\tparams.update({'host':'localhost', 'port':'5432', 'database':'afterqualifying'})\n",
    "\tconn = None\n",
    "\ttry:\n",
    "\t\tconn = pg.connect(**params)\n",
    "\t\tcur = conn.cursor()\n",
    "\n",
    "\t\tlengthToInsert = 10000\n",
    "\t\tdistancesToInsert = []\n",
    "\t\tfor source in distances:\n",
    "\t\t\tfor destination in distances[source]:\n",
    "\t\t\t\tdistancesToInsert.append((source, destination, distances[source][destination]))\n",
    "\n",
    "\t\t\tif len(distancesToInsert) > lengthToInsert:\n",
    "\t\t\t\tpgExtras.execute_values(cur, 'insert into VERTICESPAIRSNEARBY (IDVERTEX1_FK, IDVERTEX2_FK, WALKINGDISTANCE) values %s', distancesToInsert)\n",
    "\t\t\t\tdistancesToInsert = []\n",
    "\n",
    "\t\tconn.commit()\n",
    "\t\tcur.close()\n",
    "\texcept(Exception, pg.DatabaseError) as error:\n",
    "\t\tprint(error)\n",
    "\tfinally:\n",
    "\t\tif conn is not None:\n",
    "\t\t\tconn.close()\n",
    "\n",
    "\tdistances = None\n",
    "\n",
    "#storeShortestDistances(G)"
   ],
   "outputs": [],
   "metadata": {}
  },
  {
   "cell_type": "code",
   "execution_count": 22,
   "source": [
    "def distancesFromCenter(G):\n",
    "\tcenterGraph = nx.center(G, usebounds=True)[0]\n",
    "\tdictDistancesCenter = nx.single_source_dijkstra_path_length(G, source=centerGraph, weight='length')\n",
    "\tdistancesCenter = sorted(dictDistancesCenter.items(), key=lambda item: item[1])\n",
    "\t\n",
    "\twith open('centerDistances.txt', 'w') as f:\n",
    "\t\tf.write('%s' % centerGraph)\n",
    "\t\tfor item in distancesCenter:\n",
    "\t\t\tf.write('\\n%s %s' % (item[0], item[1]))\n",
    "\n",
    "\treturn distancesCenter, centerGraph\n",
    "\n",
    "#distancesCenter, centerGraph = distancesFromCenter(G)"
   ],
   "outputs": [],
   "metadata": {}
  },
  {
   "cell_type": "code",
   "execution_count": 23,
   "source": [
    "def storePlacesOfTrip():\n",
    "    kdf = pd.read_excel('/home/cristiano/Dropbox/UFMG/Cristiano/Doutorado/Segunda Etapa da Qualificação/Pesquisas OD/OD 2017/Banco de dados/OD_2017.xlsx',\n",
    "                        usecols=[   'ID_PESS', 'DATA', 'FE_VIA', 'TOT_VIAG',\n",
    "                                    'CO_O_X', 'CO_O_Y', 'CO_D_X', 'CO_D_Y',\n",
    "                                    'MODO1', 'MODO2', 'MODO3', 'MODO4',\n",
    "                                    'H_SAIDA', 'MIN_SAIDA', 'ANDA_O', 'H_CHEG', 'MIN_CHEG', 'ANDA_D',\n",
    "                                    'MODOPRIN', 'VL_EST'])\n",
    "    kdf = ks.from_pandas(kdf)\n",
    "\n",
    "    resultSQL = ks.sql('''  select  *\n",
    "                            from    {kdf} OD\n",
    "                            where   exists (    select  1\n",
    "                                                from    {kdf} OD_SUBQUERY\n",
    "                                                where   (OD_SUBQUERY.MODO1 = 9 or OD_SUBQUERY.MODO2 = 9 or OD_SUBQUERY.MODO3 = 9 or OD_SUBQUERY.MODO4 = 9) and\n",
    "                                                        OD_SUBQUERY.ID_PESS = OD.ID_PESS\n",
    "                                    )\n",
    "    ''')\n",
    "    params.update({'host':'localhost', 'port':'5432', 'database':'afterqualifying'})\n",
    "    conn = None\n",
    "    try:\n",
    "        conn = pg.connect(**params)\n",
    "        cur = conn.cursor()\n",
    "\n",
    "        lengthToInsert = 10000\n",
    "        placesToInsert = []\n",
    "        countRows = 0\n",
    "        for row in resultSQL.itertuples():\n",
    "            dictRow = row._asdict()\n",
    "            countRows += 1\n",
    "            placesToInsert.append((countRows, dictRow['ID_PESS'], dictRow['FE_VIA'],\n",
    "                    dictRow['CO_O_X'], dictRow['CO_O_Y'], dictRow['CO_D_X'], dictRow['CO_D_Y'],\n",
    "                    str(int(dictRow['H_SAIDA'])), str(int(dictRow['MIN_SAIDA'])), str(int(dictRow['H_CHEG'])), str(int(dictRow['MIN_CHEG'])), dictRow['VL_EST']))\n",
    "\n",
    "            if len(placesToInsert) > lengthToInsert:\n",
    "                    pgExtras.execute_values(cur, '''insert into PLACEOFTRIP (IDTRIP, IDDRIVER, DRIVEREXPANSIONFACTOR, GEOMDEPARTURE, GEOMDESTINATION,\n",
    "                                                    TIMEDEPARTURE, TIMEARRIVAL, PARKINGEXPENSES) values %s''', placesToInsert,\n",
    "                                                    template='''(%s, %s, %s, ST_Transform(ST_SetSRID(ST_MakePoint(%s, %s), 22523), 4326),\n",
    "                                                    ST_Transform(ST_SetSRID(ST_MakePoint(%s, %s), 22523), 4326), (%s||':'||%s), (%s||':'||%s), %s)''')\n",
    "                    placesToInsert = []\n",
    "                \n",
    "        conn.commit()\n",
    "        cur.close()\n",
    "    except(Exception, pg.DatabaseError) as error:\n",
    "        print(error)\n",
    "    finally:\n",
    "        if conn is not None:\n",
    "            conn.close()\n",
    "\n",
    "    return kdf\n",
    "\n",
    "kdf = storePlacesOfTrip()"
   ],
   "outputs": [],
   "metadata": {}
  }
 ],
 "metadata": {
  "interpreter": {
   "hash": "7c7a6e66c654c73229534504ddb684873924211df03b68af76895b292b23a17e"
  },
  "kernelspec": {
   "name": "python3",
   "display_name": "Python 3.7.4 64-bit ('base': conda)"
  },
  "language_info": {
   "name": "python",
   "version": "3.7.4",
   "mimetype": "text/x-python",
   "codemirror_mode": {
    "name": "ipython",
    "version": 3
   },
   "pygments_lexer": "ipython3",
   "nbconvert_exporter": "python",
   "file_extension": ".py"
  },
  "orig_nbformat": 4
 },
 "nbformat": 4,
 "nbformat_minor": 2
}